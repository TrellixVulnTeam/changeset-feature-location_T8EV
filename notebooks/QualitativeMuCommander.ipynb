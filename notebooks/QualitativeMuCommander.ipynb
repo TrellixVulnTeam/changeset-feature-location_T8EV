{
 "cells": [
  {
   "cell_type": "code",
   "execution_count": 1,
   "metadata": {
    "collapsed": false
   },
   "outputs": [
    {
     "name": "stdout",
     "output_type": "stream",
     "text": [
      "Using matplotlib backend: agg\n",
      "Populating the interactive namespace from numpy and matplotlib\n"
     ]
    }
   ],
   "source": [
    "%pylab\n",
    "from __future__ import print_function\n",
    "\n",
    "%matplotlib inline"
   ]
  },
  {
   "cell_type": "code",
   "execution_count": 2,
   "metadata": {
    "collapsed": true
   },
   "outputs": [],
   "source": [
    "from __future__ import print_function\n",
    "\n",
    "import csv\n",
    "from src import main, utils\n",
    "import sys\n",
    "\n",
    "projects = main.load_projects()\n",
    "interests = ['argouml v0.26.2 method', 'mucommander v0.8.5 method']\n",
    "\n",
    "p = list()\n",
    "for project in projects:\n",
    "    if ' '.join([project.name, project.version, project.level]) not in interests:\n",
    "        continue\n",
    "    p.append(project)"
   ]
  },
  {
   "cell_type": "code",
   "execution_count": 3,
   "metadata": {
    "collapsed": false
   },
   "outputs": [
    {
     "name": "stdout",
     "output_type": "stream",
     "text": [
      "Project(name='mucommander', printable_name='muCommander', version='v0.8.5', level='method', ref='refs/tags/release_0_8_5', alpha=None, eta=None, passes=5, iterations=1000, num_topics=500, src_url='http://trac.mucommander.com/changeset/3794/tags/release_0_8_5?old_path=%2F&format=zip', data_path='data/mucommander/', full_path='data/mucommander/v0.8.5/', src_path='data/mucommander/v0.8.5/src')\n"
     ]
    }
   ],
   "source": [
    "project = p[1]\n",
    "print(project)\n",
    "repos = main.load_repos(project)\n",
    "goldsets = main.load_goldsets(project)\n",
    "\n",
    "queries = main.create_queries(project)\n",
    "snapshot = main.create_release_corpus(project, repos)\n",
    "changesets = main.create_corpus(project, repos, main.ChangesetCorpus, use_level=False)\n",
    "\n",
    "snapshot_lda, _  = main.create_lda_model(project, snapshot, None, \"Release\", use_level=True)\n",
    "changeset_lda, _ = main.create_lda_model(project, changesets, None, \"Changeset\", use_level=False)"
   ]
  },
  {
   "cell_type": "markdown",
   "metadata": {},
   "source": [
    "- argouml 5258\n",
    "    - snapshot 1 org.argouml.ui.explorer.rules.GoClassifierToInstance.getRuleName()\n",
    "    - changeset 8138 org.argouml.ui.explorer.rules.GoClassifierToInstance.getRuleName()\n",
    "- mucommander 37\n",
    "    - snapshot 1 com.mucommander.ui.main.menu.MainMenuBar.MainMenuBar(MainFrame)\n",
    "    - changeset 303 com.mucommander.ui.action.impl.MinimizeWindowAction.performAction()\n",
    "- argouml 5088\n",
    "    - changeset 1 org.argouml.model.AbstractActivityGraphsHelperDecorator.setParameters(Object,Collection)\n",
    "    - snapshot 124 org.argouml.model.mdr.XmiWriterMDRImpl.write()\n",
    "- mucommander 142\n",
    "    - changeset 1 com.mucommander.ui.main.StatusBar.VolumeSpaceLabel.paint(Graphics)\n",
    "    - snapshot 536 com.mucommander.ui.main.DrivePopupButton.RefreshDriveNamesAndIcons.run()\n"
   ]
  },
  {
   "cell_type": "code",
   "execution_count": 12,
   "metadata": {
    "collapsed": false,
    "scrolled": true
   },
   "outputs": [
    {
     "name": "stdout",
     "output_type": "stream",
     "text": [
      "37: [(u'mac', 3), (u'menu', 3), (u'window', 2), (u'minimize', 2), (u'missing', 2), (u'zoom', 2), (u'application', 1), (u'mimic', 1), (u'options', 1), (u'standard', 1)]\n",
      "142: [(u'java', 7), (u'drive', 6), (u'icons', 3), (u'button', 3), (u'popup', 3), (u'names', 3), (u'refresh', 3), (u'exception', 2), (u'hashtable', 2), (u'main', 1), (u'lang', 1), (u'mucommander', 1), (u'com', 1), (u'util', 1), (u'npe', 1), (u'pointer', 1), (u'run', 1), (u'thread', 1)]\n"
     ]
    }
   ],
   "source": [
    "queries.metadata = True\n",
    "qs = list(filter(lambda x: x[1][0] in [\"37\", \"142\"], queries))\n",
    "\n",
    "for query, metadata in qs:\n",
    "    doc = sorted(query, key=lambda x: x[1], reverse=True)\n",
    "    words = [ ( queries.id2word[wid], freq ) for wid, freq in doc ]\n",
    "    print(\"{0}: {1}\".format(metadata[0], words))"
   ]
  },
  {
   "cell_type": "code",
   "execution_count": 13,
   "metadata": {
    "collapsed": false
   },
   "outputs": [
    {
     "name": "stdout",
     "output_type": "stream",
     "text": [
      "{u'142': [(486, 0.1925694369028981), (129, 0.15234868830050233), (197, 0.095442557020264801), (433, 0.08724433759517676), (365, 0.086974209650473991), (254, 0.080041283410674041), (75, 0.068508874795707012), (397, 0.048131191819368584), (472, 0.046690501765133535), (168, 0.03295394438506101), (315, 0.031143139357585854), (385, 0.024795605465440455), (133, 0.022039154517503202)], u'37': [(280, 0.29792918451625949), (21, 0.16174993810819474), (437, 0.11122222222222183), (192, 0.11028288903929083), (483, 0.095845374015254059), (31, 0.063825967472166054), (492, 0.053027059006361073), (345, 0.051450698953582036)]}\n",
      "142: 0.225*java + 0.067*version + 0.041*menu + 0.032*versions + 0.028*item + 0.025*prop + 0.016*param + 0.016*starts + 0.016*read + 0.015*text\n",
      "37: 0.223*menu + 0.092*item + 0.077*action + 0.056*mnemonic + 0.053*add + 0.045*helper + 0.030*frame + 0.027*toolkit + 0.027*main + 0.027*manager\n"
     ]
    }
   ],
   "source": [
    "q = dict()\n",
    "for query, topics in main.get_topics(snapshot_lda, queries, by_ids=[\"37\", \"142\"], full=False):\n",
    "    topics = sorted(topics, key=lambda x: x[1], reverse=True)\n",
    "    q[query[0]] = topics\n",
    "print(q)\n",
    "\n",
    "for qid, topics in q.items():\n",
    "    print(\"{0}: {1}\".format(qid, snapshot_lda.print_topic(topics[0][0])))"
   ]
  },
  {
   "cell_type": "code",
   "execution_count": 14,
   "metadata": {
    "collapsed": false
   },
   "outputs": [
    {
     "name": "stdout",
     "output_type": "stream",
     "text": [
      "{u'142': [(392, 0.55498270127058258), (498, 0.23340548765539929), (230, 0.065519657788999527), (265, 0.063065696966905282), (342, 0.030755349187869461), (425, 0.027950980740096228)], u'37': [(384, 0.23901652345428809), (197, 0.15751591394648801), (69, 0.14623273806620907), (489, 0.10381318908726098), (76, 0.087859094749404398), (89, 0.057612358711653239), (461, 0.055157024925628954), (106, 0.054306300499271432), (13, 0.046802592535192811)]}\n",
      "142: 0.128*popup + 0.069*drive + 0.068*menu + 0.065*volumes + 0.057*extended + 0.051*name + 0.048*system + 0.029*item + 0.024*mnemonic + 0.023*icons\n",
      "37: 0.072*dialog + 0.055*rename + 0.054*batch + 0.051*action + 0.038*missing + 0.038*translation + 0.031*label + 0.025*com + 0.025*mucommander + 0.011*recent\n"
     ]
    }
   ],
   "source": [
    "qc = dict()\n",
    "for query, topics in main.get_topics(changeset_lda, queries, by_ids=[\"37\", \"142\"], full=False):\n",
    "    topics = sorted(topics, key=lambda x: x[1], reverse=True)\n",
    "    qc[query[0]] = topics\n",
    "print(qc)\n",
    "\n",
    "for qid, topics in qc.items():\n",
    "    print(\"{0}: {1}\".format(qid, changeset_lda.print_topic(topics[0][0])))"
   ]
  },
  {
   "cell_type": "code",
   "execution_count": 30,
   "metadata": {
    "collapsed": false
   },
   "outputs": [],
   "source": [
    "g37 = [\"com.mucommander.ui.main.menu.MainMenuBar.MainMenuBar(MainFrame)\",\n",
    "       \"com.mucommander.ui.action.impl.MinimizeWindowAction.performAction()\"]\n",
    "g142 = [\"com.mucommander.ui.main.DrivePopupButton.RefreshDriveNamesAndIcons.run()\",\n",
    "        \"com.mucommander.ui.main.StatusBar.VolumeSpaceLabel.paint(Graphics)\"]"
   ]
  },
  {
   "cell_type": "code",
   "execution_count": 31,
   "metadata": {
    "collapsed": false
   },
   "outputs": [
    {
     "name": "stdout",
     "output_type": "stream",
     "text": [
      "com.mucommander.ui.main.menu.MainMenuBar.MainMenuBar(MainFrame): 0.223*menu + 0.092*item + 0.077*action + 0.056*mnemonic + 0.053*add + 0.045*helper + 0.030*frame + 0.027*toolkit + 0.027*main + 0.027*manager\n"
     ]
    }
   ],
   "source": [
    "q37 = dict()\n",
    "for query, topics in main.get_topics(snapshot_lda, snapshot, by_ids=[g37[0]], full=False):\n",
    "    topics = sorted(topics, key=lambda x: x[1], reverse=True)\n",
    "    q37[query[0]] = topics\n",
    "#print(q37)\n",
    "\n",
    "for qid, topics in q37.items() -\n",
    "    print(\"{0}: {1}\".format(qid, snapshot_lda.print_topic(topics[0][0])))"
   ]
  },
  {
   "cell_type": "code",
   "execution_count": 32,
   "metadata": {
    "collapsed": false
   },
   "outputs": [
    {
     "name": "stdout",
     "output_type": "stream",
     "text": [
      "com.mucommander.ui.action.impl.MinimizeWindowAction.performAction(): 0.150*window + 0.135*focus + 0.111*frame + 0.109*main + 0.056*request + 0.034*event + 0.031*active + 0.027*current + 0.021*listener + 0.021*activated\n"
     ]
    }
   ],
   "source": [
    "qc37 = dict()\n",
    "for query, topics in main.get_topics(changeset_lda, snapshot, by_ids=[g37[1]], full=False):\n",
    "    topics = sorted(topics, key=lambda x: x[1], reverse=True)\n",
    "    qc37[query[0]] = topics\n",
    "#print(qc37)\n",
    "\n",
    "for qid, topics in qc37.items():\n",
    "    print(\"{0}: {1}\".format(qid, changeset_lda.print_topic(topics[0][0])))"
   ]
  },
  {
   "cell_type": "code",
   "execution_count": 33,
   "metadata": {
    "collapsed": false
   },
   "outputs": [
    {
     "name": "stdout",
     "output_type": "stream",
     "text": [
      "com.mucommander.ui.main.DrivePopupButton.RefreshDriveNamesAndIcons.run(): 0.393*icon + 0.144*file + 0.033*dimension + 0.020*manager + 0.018*icons + 0.018*set + 0.017*name + 0.014*link + 0.014*provider + 0.013*cache\n"
     ]
    }
   ],
   "source": [
    "q142 = dict()\n",
    "for query, topics in main.get_topics(snapshot_lda, snapshot, by_ids=[g142[0]], full=False):\n",
    "    topics = sorted(topics, key=lambda x: x[1], reverse=True)\n",
    "    q142[query[0]] = topics\n",
    "#print(q142)\n",
    "\n",
    "for qid, topics in q142.items():\n",
    "    print(\"{0}: {1}\".format(qid, snapshot_lda.print_topic(topics[0][0])))"
   ]
  },
  {
   "cell_type": "code",
   "execution_count": 34,
   "metadata": {
    "collapsed": false
   },
   "outputs": [
    {
     "name": "stdout",
     "output_type": "stream",
     "text": [
      "com.mucommander.ui.main.StatusBar.VolumeSpaceLabel.paint(Graphics): 0.123*space + 0.115*free + 0.071*theme + 0.058*editor + 0.032*extensions + 0.030*dialog + 0.028*warning + 0.022*critical + 0.016*feel + 0.016*threshold\n"
     ]
    }
   ],
   "source": [
    "qc142 = dict()\n",
    "for query, topics in main.get_topics(changeset_lda, snapshot, by_ids=[g142[1]], full=False):\n",
    "    topics = sorted(topics, key=lambda x: x[1], reverse=True)\n",
    "    qc142[query[0]] = topics\n",
    "#print(qc142)\n",
    "\n",
    "for qid, topics in qc142.items():\n",
    "    print(\"{0}: {1}\".format(qid, changeset_lda.print_topic(topics[0][0])))"
   ]
  },
  {
   "cell_type": "code",
   "execution_count": null,
   "metadata": {
    "collapsed": true
   },
   "outputs": [],
   "source": []
  }
 ],
 "metadata": {
  "kernelspec": {
   "display_name": "Python 2",
   "language": "python",
   "name": "python2"
  },
  "language_info": {
   "codemirror_mode": {
    "name": "ipython",
    "version": 2
   },
   "file_extension": ".py",
   "mimetype": "text/x-python",
   "name": "python",
   "nbconvert_exporter": "python",
   "pygments_lexer": "ipython2",
   "version": "2.7.9"
  }
 },
 "nbformat": 4,
 "nbformat_minor": 0
}
