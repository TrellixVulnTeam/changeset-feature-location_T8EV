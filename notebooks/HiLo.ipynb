{
 "cells": [
  {
   "cell_type": "code",
   "execution_count": 1,
   "metadata": {
    "collapsed": true
   },
   "outputs": [],
   "source": [
    "%matplotlib inline"
   ]
  },
  {
   "cell_type": "code",
   "execution_count": 101,
   "metadata": {
    "collapsed": false
   },
   "outputs": [],
   "source": [
    "from __future__ import print_function\n",
    "from matplotlib import pyplot\n",
    "import pandas\n",
    "import numpy"
   ]
  },
  {
   "cell_type": "code",
   "execution_count": 3,
   "metadata": {
    "collapsed": true
   },
   "outputs": [],
   "source": [
    "import os\n",
    "os.chdir('..')"
   ]
  },
  {
   "cell_type": "code",
   "execution_count": 4,
   "metadata": {
    "collapsed": true
   },
   "outputs": [],
   "source": [
    "pink = \"#f92672\"\n",
    "blue = \"#6ec9dc\"\n",
    "orange = \"#fd9738\"\n",
    "green = \"#a6e24d\""
   ]
  },
  {
   "cell_type": "code",
   "execution_count": 5,
   "metadata": {
    "collapsed": false
   },
   "outputs": [],
   "source": [
    "from __future__ import print_function\n",
    "\n",
    "import csv\n",
    "from src import main, utils\n",
    "import sys\n",
    "\n",
    "projects = main.load_projects()\n",
    "\n",
    "snapshot_frms = dict()\n",
    "changeset_frms = dict()\n",
    "historical_frms = dict()\n",
    "\n",
    "for project in projects:\n",
    "    goldsets = main.load_goldsets(project)\n",
    "    snapshot_ranks = main.read_ranks(project, \"release\")\n",
    "    changeset_ranks = main.read_ranks(project, \"changeset\")\n",
    "    try:\n",
    "        historical_ranks = main.read_ranks(project, \"temporal\")\n",
    "    except IOError:\n",
    "        historical_ranks = list()\n",
    "\n",
    "\n",
    "    snapshot_frms[project] = dict( (y,(x,z)) for x,y,z in main.get_frms(goldsets, snapshot_ranks))\n",
    "    changeset_frms[project] = dict( (y,(x,z)) for x,y,z in  main.get_frms(goldsets, changeset_ranks))\n",
    "    historical_frms[project] = dict( (y,(x,z)) for x,y,z in  main.get_frms(goldsets, historical_ranks))"
   ]
  },
  {
   "cell_type": "code",
   "execution_count": 6,
   "metadata": {
    "collapsed": true
   },
   "outputs": [],
   "source": [
    "snapshot_all_method = list()\n",
    "changeset_all_method = list()\n",
    "\n",
    "snapshot_all_class = list()\n",
    "changeset_all_class = list()\n",
    "\n",
    "snapshot_6_method = list()\n",
    "changeset_6_method = list()\n",
    "historical_6_method = list()\n",
    "\n",
    "snapshot_6_class = list()\n",
    "changeset_6_class = list()\n",
    "historical_6_class = list()\n",
    "\n",
    "\n",
    "for i, project in enumerate(projects):\n",
    "    snapshot_norm = [ frm[0] for gid, frm in snapshot_frms[project].items() ]\n",
    "    changeset_norm = [ frm[0] for gid, frm in changeset_frms[project].items() ]\n",
    "    historical_norm = [ frm[0] for gid, frm in historical_frms[project].items() ]\n",
    "    if project.level == 'method':\n",
    "        snapshot_all_method.extend(snapshot_norm)\n",
    "        changeset_all_method.extend(changeset_norm)\n",
    "        if len(historical_norm):\n",
    "            snapshot_6_method.extend(snapshot_norm)\n",
    "            changeset_6_method.extend(changeset_norm)\n",
    "            historical_6_method.extend(historical_norm)    \n",
    "    else:\n",
    "        snapshot_all_class.extend(snapshot_norm)\n",
    "        changeset_all_class.extend(changeset_norm)\n",
    "        if len(historical_norm):\n",
    "            snapshot_6_class.extend(snapshot_norm)\n",
    "            changeset_6_class.extend(changeset_norm)\n",
    "            historical_6_class.extend(historical_norm)"
   ]
  },
  {
   "cell_type": "code",
   "execution_count": 7,
   "metadata": {
    "collapsed": false,
    "scrolled": true
   },
   "outputs": [],
   "source": [
    "snapshot_norms = dict()\n",
    "changeset_norms = dict()\n",
    "historical_norms = dict()\n",
    "\n",
    "for i, project in enumerate(projects):\n",
    "    snapshot_norms[project] = [ frm[0] for gid, frm in snapshot_frms[project].items() ]\n",
    "    changeset_norms[project]  = [ frm[0] for gid, frm in changeset_frms[project].items() ]\n",
    "    historical_norms[project]  = [ frm[0] for gid, frm in historical_frms[project].items() ]\n"
   ]
  },
  {
   "cell_type": "code",
   "execution_count": 99,
   "metadata": {
    "collapsed": false
   },
   "outputs": [],
   "source": [
    "def draw_save_boxplot(filename, title, data, labels):\n",
    "    box = pyplot.boxplot(data, labels=labels, notch=True, patch_artist=True)\n",
    "    ax = pyplot.gca()\n",
    "    #ax.set_ylim(ax.get_ylim()[::-1]) \n",
    "    ax.invert_yaxis()\n",
    "\n",
    "    colors = [pink, blue, green]\n",
    "    for patch, color in zip(box['boxes'], colors):\n",
    "        patch.set_facecolor(color)\n",
    "\n",
    "    for patch in box['whiskers']:\n",
    "        patch.set_color(\"#000000\")\n",
    "\n",
    "    for patch in box['means']:\n",
    "        patch.set_color(\"#000000\")\n",
    "\n",
    "    for patch in box['medians']:\n",
    "        patch.set_color(\"#000000\")\n",
    "\n",
    "    for patch in box['caps']:\n",
    "        patch.set_color(\"#000000\")\n",
    "\n",
    "    for patch in box['fliers']:\n",
    "        patch.set_color(\"#000000\")\n",
    "\n",
    "    pyplot.title(title)\n",
    "    pyplot.savefig(\"slides/box-\" + filename + \".pdf\")\n",
    "    pyplot.close()\n",
    "    \n",
    "def draw_save_violin(filename, title, data, labels):\n",
    "    violin = pyplot.violinplot(data, showmeans=True, showmedians=False, showextrema=False)\n",
    "    ax = pyplot.gca()\n",
    "    ax.invert_yaxis()\n",
    "    ax.set_xlim(0, len(data) + 1)\n",
    "    ax.set_xticks(list(range(1, len(data)+1)))\n",
    "    ax.set_xticklabels(labels)\n",
    "\n",
    "    colors = [pink, blue, green]\n",
    "    for patch, color in zip(violin['bodies'], colors):\n",
    "        patch.set_color(color)\n",
    "        patch.set_alpha(1.0)\n",
    "\n",
    "    for each in ['cmeans', 'cmedians']:\n",
    "        if each in violin:\n",
    "            c = violin[each]\n",
    "            c.set_color(\"#000000\")\n",
    "            c.set_linewidth(2)\n",
    "            c.set_linestyle('dotted')\n",
    "\n",
    "    pyplot.title(title)\n",
    "    pyplot.savefig(\"slides/violin-\" + filename + \".pdf\")\n",
    "    pyplot.close()"
   ]
  },
  {
   "cell_type": "code",
   "execution_count": 100,
   "metadata": {
    "collapsed": false,
    "scrolled": true
   },
   "outputs": [],
   "source": [
    "for draw_save in [draw_save_boxplot, draw_save_violin]:\n",
    "    for i, project in enumerate(projects):\n",
    "        draw_save(\n",
    "            filename=\"-\".join([project.printable_name, project.version, project.level]),\n",
    "            title=\" \".join([project.printable_name, project.version, project.level + '-level']),\n",
    "            data=[ snapshot_norms[project], changeset_norms[project]], \n",
    "            labels=[\"Snapshot\", \"Changesets\"]\n",
    "            )\n",
    "\n",
    "        draw_save(\n",
    "            filename=\"-\".join([project.printable_name, project.version, project.level, \"historical\"]),\n",
    "            title=\" \".join([project.printable_name, project.version, project.level + '-level']),\n",
    "            data=[ snapshot_norms[project], changeset_norms[project], historical_norms[project]], \n",
    "            labels=[\"Snapshot\", \"Changesets\", \"Historical\"]\n",
    "            )\n",
    "\n",
    "    draw_save(\n",
    "        filename=\"all-full-class\",\n",
    "        title=\"Overall class-level\",\n",
    "        data=[ snapshot_6_class, changeset_6_class, historical_6_class], \n",
    "        labels=[\"Snapshot\", \"Changesets\", \"Historical\"]\n",
    "        )\n",
    "\n",
    "    draw_save(\n",
    "        filename=\"all-full-method\",\n",
    "        title=\"Overall method-level\",\n",
    "        data=[ snapshot_6_method, changeset_6_method, historical_6_method], \n",
    "        labels=[\"Snapshot\", \"Changesets\", \"Historical\"]\n",
    "        )"
   ]
  },
  {
   "cell_type": "code",
   "execution_count": 143,
   "metadata": {
    "collapsed": true
   },
   "outputs": [],
   "source": [
    "draw_save(\n",
    "    filename=\"example\",\n",
    "    title=\" \",\n",
    "    data=[ numpy.random.random_integers(1, 50, 20) ], \n",
    "    labels=[\" \"]\n",
    "    )"
   ]
  },
  {
   "cell_type": "code",
   "execution_count": 136,
   "metadata": {
    "collapsed": true
   },
   "outputs": [],
   "source": [
    "draw_save(\n",
    "    filename=\"good-example\",\n",
    "    title=\" \",\n",
    "    data=[ numpy.concatenate((numpy.ones(90), numpy.random.random_integers(10, 50, 10))) ], \n",
    "    labels=[\" \"]\n",
    "    )"
   ]
  },
  {
   "cell_type": "code",
   "execution_count": 132,
   "metadata": {
    "collapsed": false
   },
   "outputs": [],
   "source": [
    "draw_save(\n",
    "    filename=\"bad-example\",\n",
    "    title=\" \",\n",
    "    data=[ numpy.concatenate((numpy.random.random_integers(40, 50, 90), numpy.ones(10))) ], \n",
    "    labels=[\" \"]\n",
    "    )"
   ]
  },
  {
   "cell_type": "code",
   "execution_count": null,
   "metadata": {
    "collapsed": false
   },
   "outputs": [],
   "source": [
    "\n",
    "for lvl in ['class', 'method']:\n",
    "    print()\n",
    "    print(lvl)\n",
    "    ones = list()\n",
    "    same = list()\n",
    "    in10 = list()\n",
    "    in50 = list()\n",
    "    in500 = list()\n",
    "    in100 = list()\n",
    "    in1000 = list()\n",
    "    other = list()\n",
    "    skips = list()\n",
    "    total = 0\n",
    "\n",
    "    for project in projects:\n",
    "        if project.level == lvl:\n",
    "            for gid, changeset_frm in changeset_frms[project].items():\n",
    "                if gid not in snapshot_frms[project]:\n",
    "                    skips.append(gid)\n",
    "                    continue\n",
    "\n",
    "                total += 1\n",
    "                changeset_frm = changeset_frms[project][gid][0]\n",
    "                snapshot_frm = snapshot_frms[project][gid][0]\n",
    "                a = abs(snapshot_frm - changeset_frm)\n",
    "                if snapshot_frm == 1 and changeset_frm == 1:\n",
    "                    ones.append(gid)\n",
    "                if a == 0:\n",
    "                    same.append(gid)\n",
    "                if a < 10:\n",
    "                    in10.append(gid)\n",
    "                if a < 50:\n",
    "                    in50.append(gid)\n",
    "                else:\n",
    "                    other.append(gid)\n",
    "\n",
    "    print(\"ones:\", len(ones), float(len(ones)) / total)\n",
    "    print(\"same:\", len(same), float(len(same)) / total)\n",
    "    print(\"in10:\", len(in10), float(len(in10)) / total)\n",
    "    print(\"in50:\", len(in50), float(len(in50)) / total)\n",
    "    #print(\"in100:\", len(in100), float(len(in100)) / total)\n",
    "    #print(\"in500:\", len(in500), float(len(in500)) / total)\n",
    "    #print(\"in1000:\", len(in1000), float(len(in1000)) / total)\n",
    "    print(\"other:\", len(other), float(len(other)) / total)\n",
    "    print(\"total:\", total)\n",
    "    print(\"skipped:\", len(skips))\n"
   ]
  },
  {
   "cell_type": "code",
   "execution_count": null,
   "metadata": {
    "collapsed": false
   },
   "outputs": [],
   "source": [
    "\n",
    "for lvl in ['class', 'method']:\n",
    "    print()\n",
    "    print(lvl)\n",
    "    ones = list()\n",
    "    same = list()\n",
    "    in10 = list()\n",
    "    in50 = list()\n",
    "    in500 = list()\n",
    "    in100 = list()\n",
    "    in1000 = list()\n",
    "    other = list()\n",
    "    skips = list()\n",
    "    total = 0\n",
    "\n",
    "    for project in projects:\n",
    "        if project.level == lvl:\n",
    "            for gid, historical_frm in historical_frms[project].items():\n",
    "                if gid not in snapshot_frms[project] or gid not in changeset_frms[project]:\n",
    "                    skips.append(gid)\n",
    "                    continue\n",
    "                \n",
    "                total += 1\n",
    "                historical_frm = historical_frms[project][gid][0]\n",
    "                snapshot_frm = snapshot_frms[project][gid][0]\n",
    "                changeset_frm = changeset_frms[project][gid][0]\n",
    "                a = abs(max(historical_frm, snapshot_frm, changeset_frm) - min(historical_frm, snapshot_frm, changeset_frm))\n",
    "                if historical_frm == 1 and snapshot_frm == 1 and changeset_frm == 1:\n",
    "                    ones.append(gid)\n",
    "                if a == 0:\n",
    "                    same.append(gid)\n",
    "                if a < 10:\n",
    "                    in10.append(gid)\n",
    "                if a < 50:\n",
    "                    in50.append(gid)\n",
    "                else:\n",
    "                    other.append(gid)\n",
    "\n",
    "    print(\"ones:\", len(ones), float(len(ones)) / total)\n",
    "    print(\"same:\", len(same), float(len(same)) / total)\n",
    "    print(\"in10:\", len(in10), float(len(in10)) / total)\n",
    "    print(\"in50:\", len(in50), float(len(in50)) / total)\n",
    "    #print(\"in100:\", len(in100), float(len(in100)) / total)\n",
    "    #print(\"in500:\", len(in500), float(len(in500)) / total)\n",
    "    #print(\"in1000:\", len(in1000), float(len(in1000)) / total)\n",
    "    print(\"other:\", len(other), float(len(other)) / total)\n",
    "    print(\"total:\", total)\n",
    "    print(\"skipped:\", len(skips))\n"
   ]
  },
  {
   "cell_type": "code",
   "execution_count": null,
   "metadata": {
    "collapsed": false
   },
   "outputs": [],
   "source": [
    "(6,4)\n",
    "w=3.11/2\n",
    "fig = pyplot.figure(figsize=(w*2,4))\n",
    "pyplot.boxplot([snapshot_all_method, changeset_all_method], labels=[\"Snapshot\", \"Changesets\"], widths=0.2)\n",
    "#pyplot.title(\"RQ1 overall method-level\")\n",
    "fig.tight_layout()\n",
    "fig.savefig('paper/figures/rq1-overall-method.pdf')\n",
    "                        \n",
    "fig = pyplot.figure(figsize=(w*2,4))\n",
    "pyplot.boxplot([snapshot_all_class, changeset_all_class], labels=[\"Snapshot\", \"Changesets\"], widths=0.2)\n",
    "#pyplot.title(\"RQ1 overall class-level\")\n",
    "fig.tight_layout()\n",
    "fig.savefig('paper/figures/rq1-overall-class.pdf')\n",
    "\n",
    "fig = pyplot.figure(figsize=(w*3,4))\n",
    "pyplot.boxplot([snapshot_6_method, changeset_6_method, historical_6_method], labels=[\"Snapshot\", \"Changesets\", \"Historical\"], widths=0.2)\n",
    "#pyplot.title(\"RQ2 overall method-level\")\n",
    "fig.tight_layout()\n",
    "fig.savefig('paper/figures/rq2-overall-method.pdf')\n",
    "\n",
    "fig = pyplot.figure(figsize=(w*3,4))\n",
    "pyplot.boxplot([snapshot_6_class, changeset_6_class, historical_6_class], labels=[\"Snapshot\", \"Changesets\", \"Historical\"], widths=0.2)\n",
    "#pyplot.title(\"RQ2 overall class-level\")\n",
    "fig.tight_layout()\n",
    "fig.savefig('paper/figures/rq2-overall-class.pdf')\n"
   ]
  },
  {
   "cell_type": "code",
   "execution_count": null,
   "metadata": {
    "collapsed": true
   },
   "outputs": [],
   "source": []
  },
  {
   "cell_type": "code",
   "execution_count": null,
   "metadata": {
    "collapsed": true
   },
   "outputs": [],
   "source": []
  }
 ],
 "metadata": {
  "kernelspec": {
   "display_name": "Python 2",
   "language": "python2",
   "name": "python2"
  },
  "language_info": {
   "codemirror_mode": {
    "name": "ipython",
    "version": 2
   },
   "file_extension": ".py",
   "mimetype": "text/x-python",
   "name": "python",
   "nbconvert_exporter": "python",
   "pygments_lexer": "ipython2",
   "version": "2.7.10"
  }
 },
 "nbformat": 4,
 "nbformat_minor": 0
}
