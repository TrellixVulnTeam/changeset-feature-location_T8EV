{
 "cells": [
  {
   "cell_type": "code",
   "execution_count": 2,
   "metadata": {
    "collapsed": false
   },
   "outputs": [
    {
     "name": "stdout",
     "output_type": "stream",
     "text": [
      "Using matplotlib backend: agg\n",
      "Populating the interactive namespace from numpy and matplotlib\n"
     ]
    }
   ],
   "source": [
    "%pylab\n",
    "from __future__ import print_function\n",
    "\n",
    "%matplotlib inline"
   ]
  },
  {
   "cell_type": "code",
   "execution_count": 3,
   "metadata": {
    "collapsed": true
   },
   "outputs": [],
   "source": [
    "from __future__ import print_function\n",
    "\n",
    "import csv\n",
    "from src import main, utils\n",
    "import sys\n",
    "\n",
    "projects = main.load_projects()\n",
    "interests = ['argouml v0.26.2 method', 'mucommander v0.8.5 method']\n",
    "\n",
    "p = list()\n",
    "for project in projects:\n",
    "    if ' '.join([project.name, project.version, project.level]) not in interests:\n",
    "        continue\n",
    "    p.append(project)"
   ]
  },
  {
   "cell_type": "code",
   "execution_count": 4,
   "metadata": {
    "collapsed": false
   },
   "outputs": [
    {
     "name": "stdout",
     "output_type": "stream",
     "text": [
      "Project(name='argouml', printable_name='ArgoUML', version='v0.26.2', level='method', ref='refs/tags/VERSION_0_26_2', alpha=None, eta=None, passes=5, iterations=1000, num_topics=500, src_url='http://argouml-downloads.tigris.org/nonav/argouml-0.26.2/ArgoUML-0.26.2-src.zip', data_path='data/argouml/', full_path='data/argouml/v0.26.2/', src_path='data/argouml/v0.26.2/src')\n"
     ]
    }
   ],
   "source": [
    "project = p[0]\n",
    "print(project)\n",
    "repos = main.load_repos(project)\n",
    "goldsets = main.load_goldsets(project)\n",
    "\n",
    "queries = main.create_queries(project)\n",
    "snapshot = main.create_release_corpus(project, repos)\n",
    "changesets = main.create_corpus(project, repos, main.ChangesetCorpus, use_level=False)\n",
    "\n",
    "snapshot_lda, _  = main.create_lda_model(project, snapshot, None, \"Release\", use_level=True)\n",
    "changeset_lda, _ = main.create_lda_model(project, changesets, None, \"Changeset\", use_level=False)"
   ]
  },
  {
   "cell_type": "code",
   "execution_count": 5,
   "metadata": {
    "collapsed": false
   },
   "outputs": [],
   "source": [
    "q = dict()\n",
    "for query, topics in main.get_topics(snapshot_lda, queries, by_ids=[\"5258\", \"5088\"], full=False):\n",
    "    topics = sorted(topics, key=lambda x: x[1], reverse=True)\n",
    "    q[query[0]] = topics\n",
    "\n",
    "qc = dict()\n",
    "for query, topics in main.get_topics(changeset_lda, queries, by_ids=[\"5258\", \"5088\"], full=False):\n",
    "    topics = sorted(topics, key=lambda x: x[1], reverse=True)\n",
    "    qc[query[0]] = topics\n",
    "g5258 = [\"org.argouml.ui.explorer.rules.GoClassifierToInstance.getRuleName()\",\n",
    "         \"org.argouml.ui.explorer.rules.GoClassifierToInstance.getRuleName()\"]\n",
    "g5088 = [\"org.argouml.model.mdr.XmiWriterMDRImpl.write()\",\n",
    "         \"org.argouml.model.AbstractActivityGraphsHelperDecorator.setParameters(Object,Collection)\"]\n",
    " \n",
    "q5258 = dict()\n",
    "for query, topics in main.get_topics(snapshot_lda, snapshot, by_ids=[g5258[0]], full=False):\n",
    "    topics = sorted(topics, key=lambda x: x[1], reverse=True)\n",
    "    q5258[query[0]] = topics\n",
    "#print(q5258)\n",
    "\n",
    "qc5258 = dict()\n",
    "for query, topics in main.get_topics(changeset_lda, snapshot, by_ids=[g5258[1]], full=False):\n",
    "    topics = sorted(topics, key=lambda x: x[1], reverse=True)\n",
    "    qc5258[query[0]] = topics\n",
    "#print(q5258)\n",
    "\n",
    "q5088 = dict()\n",
    "for query, topics in main.get_topics(snapshot_lda, snapshot, by_ids=[g5088[0]], full=False):\n",
    "    topics = sorted(topics, key=lambda x: x[1], reverse=True)\n",
    "    q5088[query[0]] = topics\n",
    "#print(q5088)\n",
    "\n",
    "qc5088 = dict()\n",
    "for query, topics in main.get_topics(changeset_lda, snapshot, by_ids=[g5088[1]], full=False):\n",
    "    topics = sorted(topics, key=lambda x: x[1], reverse=True)\n",
    "    qc5088[query[0]] = topics\n",
    "#print(qc5088)"
   ]
  },
  {
   "cell_type": "code",
   "execution_count": 6,
   "metadata": {
    "collapsed": false
   },
   "outputs": [],
   "source": [
    "def printer(q, model):\n",
    "    for qid, topics in q.items():\n",
    "        print(qid, \"num topics:\", len(topics))\n",
    "        for t in topics:\n",
    "            if len(topics) <= 3 or t[1] >= 0.1:\n",
    "                print(\"    \", t[0], t[1])\n",
    "                for word in model.show_topic(t[0]):\n",
    "                    if word[0]>= 0.05:\n",
    "                        print(\"        {0} {1}\".format(*word))"
   ]
  },
  {
   "cell_type": "markdown",
   "metadata": {},
   "source": [
    "# Ranks\n",
    "- argouml 5258\n",
    "    - snapshot 1 org.argouml.ui.explorer.rules.GoClassifierToInstance.getRuleName()\n",
    "    - changeset 8138 org.argouml.ui.explorer.rules.GoClassifierToInstance.getRuleName()\n",
    "- argouml 5088\n",
    "    - changeset 1 org.argouml.model.AbstractActivityGraphsHelperDecorator.setParameters(Object,Collection)\n",
    "    - snapshot 124 org.argouml.model.mdr.XmiWriterMDRImpl.write()"
   ]
  },
  {
   "cell_type": "markdown",
   "metadata": {},
   "source": [
    "# Query words (preprocessed)"
   ]
  },
  {
   "cell_type": "code",
   "execution_count": 7,
   "metadata": {
    "collapsed": false
   },
   "outputs": [
    {
     "name": "stdout",
     "output_type": "stream",
     "text": [
      "5088 num words: 49\n",
      "        profiles (4)\n",
      "        xmi (3)\n",
      "        user (3)\n",
      "        profile (3)\n",
      "        write (3)\n",
      "        save (2)\n",
      "        files (2)\n",
      "        defined (2)\n",
      "        loaded (2)\n",
      "        impl (2)\n",
      "        mdr (2)\n",
      "        writer (2)\n",
      "        models (2)\n",
      "        able (1)\n",
      "        available (1)\n",
      "        implemented (1)\n",
      "        file (1)\n",
      "        model (1)\n",
      "        issue (1)\n",
      "        release (1)\n",
      "        aren (1)\n",
      "        using (1)\n",
      "        isn (1)\n",
      "        zargo (1)\n",
      "        creating (1)\n",
      "        removed (1)\n",
      "        configuration (1)\n",
      "        removing (1)\n",
      "        empty (1)\n",
      "        won (1)\n",
      "        seams (1)\n",
      "        persister (1)\n",
      "        usage (1)\n",
      "        simply (1)\n",
      "        written (1)\n",
      "        depend (1)\n",
      "        due (1)\n",
      "        configured (1)\n",
      "        deeper (1)\n",
      "        directories (1)\n",
      "        experimentally (1)\n",
      "        flag (1)\n",
      "        functionality (1)\n",
      "        persist (1)\n",
      "        prevents (1)\n",
      "        tackle (1)\n",
      "        unassigned (1)\n",
      "        wasn (1)\n",
      "        writing (1)\n",
      "5258 num words: 6\n",
      "        name (2)\n",
      "        classifier (2)\n",
      "        perspective (2)\n",
      "        collaboration (2)\n",
      "        rules (2)\n",
      "        explorer (1)\n"
     ]
    }
   ],
   "source": [
    "queries.metadata = True\n",
    "qs = list(filter(lambda x: x[1][0] in [\"5258\", \"5088\"], queries))\n",
    "\n",
    "for query, metadata in qs:\n",
    "    doc = sorted(query, key=lambda x: x[1], reverse=True)\n",
    "    words = [ ( freq, queries.id2word[wid] ) for wid, freq in doc ]\n",
    "    print(metadata[0], \"num words:\", len(words))\n",
    "    for word in words:\n",
    "        print(\"        {1} ({0})\".format(*word))"
   ]
  },
  {
   "cell_type": "markdown",
   "metadata": {},
   "source": [
    "# Query topics"
   ]
  },
  {
   "cell_type": "code",
   "execution_count": 8,
   "metadata": {
    "collapsed": false
   },
   "outputs": [
    {
     "name": "stdout",
     "output_type": "stream",
     "text": [
      "Snapshot\n",
      "5258 num topics: 3\n",
      "     194 0.583261328174\n",
      "        0.178309175492 rule\n",
      "        0.121059499556 perspective\n",
      "        0.0762293638816 name\n",
      "        0.0690858822929 rules\n",
      "        0.0503684867632 explorer\n",
      "     226 0.188608428249\n",
      "        0.1856541011 machine\n",
      "        0.11777883397 object\n",
      "        0.102723364576 handle\n",
      "        0.0773127578072 collaboration\n",
      "        0.0647654447602 expr\n",
      "        0.0556342824257 represented\n",
      "        0.0545723769322 set\n",
      "     464 0.145296910244\n",
      "        0.388703354048 classifier\n",
      "        0.0789009067262 object\n",
      "5088 num topics: 18\n",
      "     281 0.191849937158\n",
      "        0.0969630906947 profiles\n",
      "        0.0777460707084 profile\n",
      "     283 0.132888424299\n",
      "        0.0805840860895 writer\n",
      "        0.0625096636339 component\n",
      "        0.0515641337096 file\n",
      "        0.0505557374166 xmi\n",
      "     38 0.11550899696\n",
      "        0.0837400317472 file\n",
      "        0.052783578714 chooser\n",
      "\n",
      "Changeset\n",
      "5258 num topics: 2\n",
      "     250 0.480647755462\n",
      "        0.14981641216 role\n",
      "        0.0626290395827 classifier\n",
      "     365 0.435886997476\n",
      "        0.124552431151 list\n",
      "        0.0938468895104 perspective\n",
      "        0.0755053463939 explorer\n",
      "5088 num topics: 19\n",
      "     446 0.217437517349\n",
      "        0.153329589266 profile\n",
      "        0.143068021978 model\n",
      "     426 0.123607301438\n",
      "        0.0949520396923 model\n",
      "        0.0696471492872 xmi\n",
      "     472 0.107890976257\n",
      "        0.0910955504975 profile\n",
      "        0.0607702650632 model\n"
     ]
    }
   ],
   "source": [
    "print(\"Snapshot\")\n",
    "printer(q, snapshot_lda)\n",
    "\n",
    "print()\n",
    "print(\"Changeset\")\n",
    "printer(qc, changeset_lda)"
   ]
  },
  {
   "cell_type": "markdown",
   "metadata": {},
   "source": [
    "# Issue 5258 top method topics"
   ]
  },
  {
   "cell_type": "code",
   "execution_count": 9,
   "metadata": {
    "collapsed": false
   },
   "outputs": [
    {
     "name": "stdout",
     "output_type": "stream",
     "text": [
      "Snapshot\n",
      "org.argouml.ui.explorer.rules.GoClassifierToInstance.getRuleName() num topics: 3\n",
      "     194 0.823015472673\n",
      "        0.178309175492 rule\n",
      "        0.121059499556 perspective\n",
      "        0.0762293638816 name\n",
      "        0.0690858822929 rules\n",
      "        0.0503684867632 explorer\n",
      "     226 0.0685924095711\n",
      "        0.1856541011 machine\n",
      "        0.11777883397 object\n",
      "        0.102723364576 handle\n",
      "        0.0773127578072 collaboration\n",
      "        0.0647654447602 expr\n",
      "        0.0556342824257 represented\n",
      "        0.0545723769322 set\n",
      "     464 0.0498912641392\n",
      "        0.388703354048 classifier\n",
      "        0.0789009067262 object\n",
      "\n",
      "Changeset\n",
      "org.argouml.ui.explorer.rules.GoClassifierToInstance.getRuleName() num topics: 2\n",
      "     432 0.76531764969\n",
      "        0.0893536710693 jar\n",
      "        0.0678621781371 argouml\n",
      "        0.0517429904434 org\n",
      "     332 0.176094115016\n",
      "        0.0834646177049 rule\n",
      "        0.0673931412026 perspective\n"
     ]
    }
   ],
   "source": [
    "print(\"Snapshot\")\n",
    "printer(q5258, snapshot_lda)\n",
    "\n",
    "print()\n",
    "print(\"Changeset\")\n",
    "printer(qc5258, changeset_lda)"
   ]
  },
  {
   "cell_type": "markdown",
   "metadata": {},
   "source": [
    "# Issue 5088 top method topics"
   ]
  },
  {
   "cell_type": "code",
   "execution_count": 10,
   "metadata": {
    "collapsed": false
   },
   "outputs": [
    {
     "name": "stdout",
     "output_type": "stream",
     "text": [
      "\n",
      "Snapshot\n",
      "org.argouml.model.mdr.XmiWriterMDRImpl.write() num topics: 6\n",
      "     283 0.559318918067\n",
      "        0.0805840860895 writer\n",
      "        0.0625096636339 component\n",
      "        0.0515641337096 file\n",
      "        0.0505557374166 xmi\n",
      "     82 0.156183575621\n",
      "        0.112620395345 xmi\n",
      "        0.100644430345 input\n",
      "        0.0743053978246 exception\n",
      "        0.0681277303619 stream\n",
      "        0.0663342788556 reader\n",
      "        0.0647220093709 file\n",
      "     41 0.117419979701\n",
      "        0.116364685128 exception\n",
      "        0.113558278325 object\n",
      "        0.0930610719178 invalid\n",
      "        0.0875901359546 handle\n",
      "        0.0700790042915 element\n",
      "\n",
      "Changeset\n",
      "org.argouml.model.AbstractActivityGraphsHelperDecorator.setParameters(Object,Collection) num topics: 2\n",
      "     481 0.544616865511\n",
      "        0.22107180032 object\n",
      "        0.0919750214017 lang\n",
      "        0.0766887196664 java\n",
      "        0.0726775483298 model\n",
      "     22 0.384240277346\n",
      "        0.112239881206 set\n",
      "        0.0783031934781 parameter\n"
     ]
    }
   ],
   "source": [
    "print()\n",
    "print(\"Snapshot\")\n",
    "printer(q5088, snapshot_lda)\n",
    "\n",
    "print()\n",
    "print(\"Changeset\")\n",
    "printer(qc5088, changeset_lda)"
   ]
  },
  {
   "cell_type": "code",
   "execution_count": null,
   "metadata": {
    "collapsed": true
   },
   "outputs": [],
   "source": []
  }
 ],
 "metadata": {
  "kernelspec": {
   "display_name": "Python 2",
   "language": "python",
   "name": "python2"
  },
  "language_info": {
   "codemirror_mode": {
    "name": "ipython",
    "version": 2
   },
   "file_extension": ".py",
   "mimetype": "text/x-python",
   "name": "python",
   "nbconvert_exporter": "python",
   "pygments_lexer": "ipython2",
   "version": "2.7.9"
  }
 },
 "nbformat": 4,
 "nbformat_minor": 0
}
