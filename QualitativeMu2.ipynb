{
 "cells": [
  {
   "cell_type": "code",
   "execution_count": 2,
   "metadata": {
    "collapsed": false
   },
   "outputs": [
    {
     "name": "stdout",
     "output_type": "stream",
     "text": [
      "Using matplotlib backend: agg\n",
      "Populating the interactive namespace from numpy and matplotlib\n"
     ]
    }
   ],
   "source": [
    "%pylab\n",
    "from __future__ import print_function\n",
    "\n",
    "%matplotlib inline"
   ]
  },
  {
   "cell_type": "code",
   "execution_count": 3,
   "metadata": {
    "collapsed": true
   },
   "outputs": [],
   "source": [
    "from __future__ import print_function\n",
    "\n",
    "import csv\n",
    "from src import main, utils\n",
    "import sys\n",
    "\n",
    "projects = main.load_projects()\n",
    "interests = ['argouml v0.26.2 method', 'mucommander v0.8.5 method']\n",
    "\n",
    "p = list()\n",
    "for project in projects:\n",
    "    if ' '.join([project.name, project.version, project.level]) not in interests:\n",
    "        continue\n",
    "    p.append(project)"
   ]
  },
  {
   "cell_type": "code",
   "execution_count": 4,
   "metadata": {
    "collapsed": false
   },
   "outputs": [
    {
     "name": "stdout",
     "output_type": "stream",
     "text": [
      "Project(name='mucommander', printable_name='muCommander', version='v0.8.5', level='method', ref='refs/tags/release_0_8_5', alpha=None, eta=None, passes=5, iterations=1000, num_topics=500, src_url='http://trac.mucommander.com/changeset/3794/tags/release_0_8_5?old_path=%2F&format=zip', data_path='data/mucommander/', full_path='data/mucommander/v0.8.5/', src_path='data/mucommander/v0.8.5/src')\n"
     ]
    }
   ],
   "source": [
    "project = p[1]\n",
    "print(project)\n",
    "repos = main.load_repos(project)\n",
    "goldsets = main.load_goldsets(project)\n",
    "\n",
    "queries = main.create_queries(project)\n",
    "snapshot = main.create_release_corpus(project, repos)\n",
    "changesets = main.create_corpus(project, repos, main.ChangesetCorpus, use_level=False)\n",
    "\n",
    "snapshot_lda, _  = main.create_lda_model(project, snapshot, None, \"Release\", use_level=True)\n",
    "changeset_lda, _ = main.create_lda_model(project, changesets, None, \"Changeset\", use_level=False)"
   ]
  },
  {
   "cell_type": "code",
   "execution_count": 5,
   "metadata": {
    "collapsed": false
   },
   "outputs": [],
   "source": [
    "q = dict()\n",
    "for query, topics in main.get_topics(snapshot_lda, queries, by_ids=[\"37\", \"142\"], full=False):\n",
    "    topics = sorted(topics, key=lambda x: x[1], reverse=True)\n",
    "    q[query[0]] = topics\n",
    "\n",
    "qc = dict()\n",
    "for query, topics in main.get_topics(changeset_lda, queries, by_ids=[\"37\", \"142\"], full=False):\n",
    "    topics = sorted(topics, key=lambda x: x[1], reverse=True)\n",
    "    qc[query[0]] = topics\n",
    "    \n",
    "g37 = [\"com.mucommander.ui.main.menu.MainMenuBar.MainMenuBar(MainFrame)\",\n",
    "       \"com.mucommander.ui.action.impl.MinimizeWindowAction.performAction()\"]\n",
    "g142 = [\"com.mucommander.ui.main.DrivePopupButton.RefreshDriveNamesAndIcons.run()\",\n",
    "        \"com.mucommander.ui.main.StatusBar.VolumeSpaceLabel.paint(Graphics)\"]\n",
    "\n",
    "q37 = dict()\n",
    "for query, topics in main.get_topics(snapshot_lda, snapshot, by_ids=[g37[0]], full=False):\n",
    "    topics = sorted(topics, key=lambda x: x[1], reverse=True)\n",
    "    q37[query[0]] = topics\n",
    "\n",
    "\n",
    "qc37 = dict()\n",
    "for query, topics in main.get_topics(changeset_lda, snapshot, by_ids=[g37[1]], full=False):\n",
    "    topics = sorted(topics, key=lambda x: x[1], reverse=True)\n",
    "    qc37[query[0]] = topics\n",
    "\n",
    "q142 = dict()\n",
    "for query, topics in main.get_topics(snapshot_lda, snapshot, by_ids=[g142[0]], full=False):\n",
    "    topics = sorted(topics, key=lambda x: x[1], reverse=True)\n",
    "    q142[query[0]] = topics\n",
    "\n",
    "\n",
    "qc142 = dict()\n",
    "for query, topics in main.get_topics(changeset_lda, snapshot, by_ids=[g142[1]], full=False):\n",
    "    topics = sorted(topics, key=lambda x: x[1], reverse=True)\n",
    "    qc142[query[0]] = topics"
   ]
  },
  {
   "cell_type": "code",
   "execution_count": 6,
   "metadata": {
    "collapsed": false
   },
   "outputs": [],
   "source": [
    "def printer(q, model):\n",
    "    for qid, topics in q.items():\n",
    "        print(qid, \"num topics:\", len(topics))\n",
    "        for t in topics:\n",
    "            if len(topics) <= 3 or t[1] >= 0.1:\n",
    "                print(\"    \", t[0], t[1])\n",
    "                for word in model.show_topic(t[0]):\n",
    "                    if word[0]>= 0.05:\n",
    "                        print(\"        {0} {1}\".format(*word))"
   ]
  },
  {
   "cell_type": "markdown",
   "metadata": {},
   "source": [
    "# Ranks\n",
    "- mucommander 37\n",
    "    - snapshot 1 com.mucommander.ui.main.menu.MainMenuBar.MainMenuBar(MainFrame)\n",
    "    - changeset 303 com.mucommander.ui.action.impl.MinimizeWindowAction.performAction()\n",
    "- mucommander 142\n",
    "    - changeset 1 com.mucommander.ui.main.StatusBar.VolumeSpaceLabel.paint(Graphics)\n",
    "    - snapshot 536 com.mucommander.ui.main.DrivePopupButton.RefreshDriveNamesAndIcons.run()"
   ]
  },
  {
   "cell_type": "markdown",
   "metadata": {},
   "source": [
    "# Query words (preprocessed)"
   ]
  },
  {
   "cell_type": "code",
   "execution_count": 11,
   "metadata": {
    "collapsed": false
   },
   "outputs": [
    {
     "name": "stdout",
     "output_type": "stream",
     "text": [
      "37 num words: 10\n",
      "        mac (3)\n",
      "        menu (3)\n",
      "        window (2)\n",
      "        minimize (2)\n",
      "        missing (2)\n",
      "        zoom (2)\n",
      "        application (1)\n",
      "        mimic (1)\n",
      "        options (1)\n",
      "        standard (1)\n",
      "142 num words: 18\n",
      "        java (7)\n",
      "        drive (6)\n",
      "        icons (3)\n",
      "        button (3)\n",
      "        popup (3)\n",
      "        names (3)\n",
      "        refresh (3)\n",
      "        exception (2)\n",
      "        hashtable (2)\n",
      "        main (1)\n",
      "        lang (1)\n",
      "        mucommander (1)\n",
      "        com (1)\n",
      "        util (1)\n",
      "        npe (1)\n",
      "        pointer (1)\n",
      "        run (1)\n",
      "        thread (1)\n"
     ]
    }
   ],
   "source": [
    "### queries.metadata = True\n",
    "qs = list(filter(lambda x: x[1][0] in [\"37\", \"142\"], queries))\n",
    "\n",
    "for query, metadata in qs:\n",
    "    doc = sorted(query, key=lambda x: x[1], reverse=True)\n",
    "    words = [ ( freq, queries.id2word[wid] ) for wid, freq in doc ]\n",
    "    print(metadata[0], \"num words:\", len(words))\n",
    "    for word in words:\n",
    "        print(\"        {1} ({0})\".format(*word))"
   ]
  },
  {
   "cell_type": "markdown",
   "metadata": {},
   "source": [
    "# Query topics"
   ]
  },
  {
   "cell_type": "code",
   "execution_count": 8,
   "metadata": {
    "collapsed": false
   },
   "outputs": [
    {
     "name": "stdout",
     "output_type": "stream",
     "text": [
      "Snapshot\n",
      "142 num topics: 12\n",
      "     486 0.190691474666\n",
      "        0.225407162454 java\n",
      "        0.0667966365939 version\n",
      "     129 0.15194579898\n",
      "        0.0836325698865 drive\n",
      "     197 0.138616099833\n",
      "        0.335195301674 component\n",
      "        0.151223520535 popup\n",
      "        0.0779508804518 components\n",
      "        0.0601404620095 toolbar\n",
      "        0.0592926573171 visible\n",
      "     433 0.106878525059\n",
      "        0.0705262831764 folder\n",
      "        0.0665606935383 file\n",
      "37 num topics: 8\n",
      "     280 0.298581059716\n",
      "        0.223045774075 menu\n",
      "        0.0922777930903 item\n",
      "        0.0766523325734 action\n",
      "        0.0556715337321 mnemonic\n",
      "        0.0534673653631 add\n",
      "     21 0.161671782624\n",
      "        0.0887366858441 mac\n",
      "        0.0883327991072 href\n",
      "        0.084118802622 comp\n",
      "        0.0704069827643 data\n",
      "        0.0661999626631 string\n",
      "        0.0655555700563 component\n",
      "        0.0590099396551 length\n",
      "     437 0.111222222222\n",
      "        0.233421011023 element\n",
      "        0.133907408373 attr\n",
      "        0.0699603578927 xml\n",
      "        0.0632732165314 exception\n",
      "        0.0558497065174 add\n",
      "        0.0557960458275 write\n",
      "     192 0.110279239258\n",
      "        0.0989449484066 command\n",
      "        0.0858638338666 file\n",
      "        0.0571865437272 image\n",
      "        0.0538139100016 zoom\n",
      "\n",
      "Changeset\n",
      "142 num topics: 6\n",
      "     392 0.556432497329\n",
      "        0.127821431271 popup\n",
      "        0.0687645755657 drive\n",
      "        0.0681926443664 menu\n",
      "        0.0653349157637 volumes\n",
      "        0.056665808695 extended\n",
      "        0.0506841836654 name\n",
      "     498 0.232184209191\n",
      "        0.254498373515 java\n",
      "        0.138406186078 awt\n",
      "        0.123127139731 javax\n",
      "        0.113667460008 swing\n",
      "        0.076517022349 event\n",
      "        0.0573646151563 util\n",
      "37 num topics: 9\n",
      "     384 0.239662626075\n",
      "        0.0718084188726 dialog\n",
      "        0.0548479182608 rename\n",
      "        0.0537649172634 batch\n",
      "        0.0511609860499 action\n",
      "     197 0.158013625732\n",
      "        0.308495661939 menu\n",
      "        0.181199801946 item\n",
      "        0.0880851347601 add\n",
      "        0.0603725913346 bookmarks\n",
      "     69 0.146742147217\n",
      "        0.173719160635 version\n",
      "        0.0896130822056 java\n",
      "        0.0841533575052 family\n",
      "        0.0789837995046 mac\n",
      "        0.0636027708019 windows\n",
      "        0.0598492326121 starts\n",
      "     489 0.10379660302\n",
      "        0.189649351607 image\n",
      "        0.119280188387 zoom\n",
      "        0.0699836118552 table\n",
      "        0.0691270331437 factor\n"
     ]
    }
   ],
   "source": [
    "print(\"Snapshot\")\n",
    "printer(q, snapshot_lda)\n",
    "\n",
    "print()\n",
    "print(\"Changeset\")\n",
    "printer(qc, changeset_lda)"
   ]
  },
  {
   "cell_type": "markdown",
   "metadata": {},
   "source": [
    "# Issue 37 top method topics"
   ]
  },
  {
   "cell_type": "code",
   "execution_count": 9,
   "metadata": {
    "collapsed": false
   },
   "outputs": [
    {
     "name": "stdout",
     "output_type": "stream",
     "text": [
      "Snapshot\n",
      "com.mucommander.ui.main.menu.MainMenuBar.MainMenuBar(MainFrame) num topics: 2\n",
      "     280 0.895554169421\n",
      "        0.223045774075 menu\n",
      "        0.0922777930903 item\n",
      "        0.0766523325734 action\n",
      "        0.0556715337321 mnemonic\n",
      "        0.0534673653631 add\n",
      "     492 0.104046311908\n",
      "        0.405491679193 action\n",
      "        0.0963417533379 descriptor\n",
      "        0.0667780136219 register\n",
      "        0.0570310172299 factory\n",
      "\n",
      "Changeset\n",
      "com.mucommander.ui.action.impl.MinimizeWindowAction.performAction() num topics: 3\n",
      "     76 0.410787090128\n",
      "        0.150192555606 window\n",
      "        0.135369924693 focus\n",
      "        0.11055842372 frame\n",
      "        0.109025490271 main\n",
      "        0.0561341944788 request\n",
      "     472 0.241346080919\n",
      "        0.137835824374 events\n",
      "        0.137234417418 mode\n",
      "        0.121380838756 thread\n",
      "        0.0711481876135 action\n",
      "        0.062647338085 code\n",
      "        0.0575339382588 separate\n",
      "     392 0.237422384509\n",
      "        0.127821431271 popup\n",
      "        0.0687645755657 drive\n",
      "        0.0681926443664 menu\n",
      "        0.0653349157637 volumes\n",
      "        0.056665808695 extended\n",
      "        0.0506841836654 name\n"
     ]
    }
   ],
   "source": [
    "print(\"Snapshot\")\n",
    "printer(q37, snapshot_lda)\n",
    "\n",
    "print()\n",
    "print(\"Changeset\")\n",
    "printer(qc37, changeset_lda)"
   ]
  },
  {
   "cell_type": "markdown",
   "metadata": {},
   "source": [
    "# Issue 142  top method topics"
   ]
  },
  {
   "cell_type": "code",
   "execution_count": 10,
   "metadata": {
    "collapsed": false
   },
   "outputs": [
    {
     "name": "stdout",
     "output_type": "stream",
     "text": [
      "\n",
      "Snapshot\n",
      "com.mucommander.ui.main.DrivePopupButton.RefreshDriveNamesAndIcons.run() num topics: 12\n",
      "     111 0.361327898871\n",
      "        0.392817788721 icon\n",
      "        0.143936260431 file\n",
      "     175 0.11558893496\n",
      "        0.647603479703 name\n",
      "        0.12470674585 string\n",
      "     254 0.101027410261\n",
      "        0.146340723821 file\n",
      "        0.0801011442289 icons\n",
      "        0.0597020707911 system\n",
      "        0.0544446927419 code\n",
      "\n",
      "Changeset\n",
      "com.mucommander.ui.main.StatusBar.VolumeSpaceLabel.paint(Graphics) num topics: 7\n",
      "     80 0.297134192603\n",
      "        0.123220414374 space\n",
      "        0.115098043062 free\n",
      "        0.0713823734647 theme\n",
      "        0.0578063895751 editor\n",
      "     477 0.267417534046\n",
      "        0.0888027061568 width\n",
      "        0.0799202282068 height\n",
      "        0.0733120711679 color\n",
      "     307 0.245727338065\n",
      "        0.289156911138 space\n",
      "        0.17043758721 free\n",
      "        0.135048400676 total\n",
      "        0.0857215874595 info\n",
      "        0.079255558935 volume\n",
      "     382 0.114901973289\n",
      "        0.229433565748 color\n",
      "        0.117778538188 background\n",
      "        0.0880797581331 table\n",
      "        0.0507429456835 unmatched\n"
     ]
    }
   ],
   "source": [
    "print()\n",
    "print(\"Snapshot\")\n",
    "printer(q142, snapshot_lda)\n",
    "\n",
    "print()\n",
    "print(\"Changeset\")\n",
    "printer(qc142, changeset_lda)"
   ]
  },
  {
   "cell_type": "code",
   "execution_count": null,
   "metadata": {
    "collapsed": true
   },
   "outputs": [],
   "source": []
  }
 ],
 "metadata": {
  "kernelspec": {
   "display_name": "Python 2",
   "language": "python",
   "name": "python2"
  },
  "language_info": {
   "codemirror_mode": {
    "name": "ipython",
    "version": 2
   },
   "file_extension": ".py",
   "mimetype": "text/x-python",
   "name": "python",
   "nbconvert_exporter": "python",
   "pygments_lexer": "ipython2",
   "version": "2.7.9"
  }
 },
 "nbformat": 4,
 "nbformat_minor": 0
}
